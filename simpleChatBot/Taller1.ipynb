{
  "cells": [
    {
      "cell_type": "markdown",
      "metadata": {
        "id": "a8YDUb8iY1UM"
      },
      "source": [
        "# Natural Languaje Processing\n",
        "## TALLER 1\n",
        "### Integrantes\n",
        "1. Marin Daniel\n",
        "2. Molina Angel\n",
        "### Problema\n",
        "Build a rule-based chatbot. The bot will do the following activities:\n",
        "\n",
        "When a greeting is recognized, start the conversation\n",
        "You'll give 2 options that the user can ask you about the weather or the stock market\n",
        "You'll reply and ask if they have a follow\n",
        "A user can ask up to 2 questions\n",
        "You'll dismiss the user with a greeting"
      ]
    },
    {
      "cell_type": "markdown",
      "metadata": {
        "id": "_n4IM0gfY2Od"
      },
      "source": [
        "## Definicion de la clase para el chat basado en reglas\n",
        "Esta clase implementa un chatbot básico que guía la conversación basándose en reglas simples. El usuario debe iniciar la conversación con un saludo, y el bot ofrece dos temas sobre los cuales puede responder: el clima y el mercado de valores. El bot puede responder hasta dos preguntas antes de despedirse"
      ]
    },
    {
      "cell_type": "code",
      "execution_count": null,
      "metadata": {
        "id": "tlGF-dhiUSdB"
      },
      "outputs": [],
      "source": [
        "import re\n",
        "\n",
        "class RuleBasedChatbot:\n",
        "    def __init__(self):\n",
        "        self.greeting_responses = [\"¡Hola! ¿Cómo puedo ayudarte hoy?\", \"¡Hola! ¿En qué puedo asistirte?\"]\n",
        "        self.farewell_responses = [\"¡Adiós!\", \"¡Cuídate!\"]\n",
        "        self.options = [\"Puedes preguntarme sobre el clima o el mercado de valores.\"]\n",
        "        self.weather_responses = [\"Hoy hace sol y calor.\", \"Parece que va a llover más tarde.\", \"El clima de Quito esta raro hoy, no lo puedo comprender\"]\n",
        "        self.stock_market_responses = [\"El mercado de valores está en alza hoy.\", \"El mercado de valores está en baja hoy.\"]\n",
        "        self.questions_asked = 0\n",
        "\n",
        "    def greet(self, user_input):\n",
        "        greeting_pattern = r\"\\b(hola|buen[oa]s\\s*(días|tardes|noches)?)\\b\"\n",
        "        if re.search(greeting_pattern, user_input, re.IGNORECASE):\n",
        "            return True\n",
        "        return False\n",
        "\n",
        "    def handle_weather_question(self):\n",
        "        return self.weather_responses[self.questions_asked % len(self.weather_responses)]\n",
        "\n",
        "    def handle_stock_question(self):\n",
        "        return self.stock_market_responses[self.questions_asked % len(self.stock_market_responses)]\n",
        "\n",
        "    def chat(self):\n",
        "        max_questions = 3\n",
        "        print(\"Chatbot: Por favor, inicia la conversación con un saludo.\")\n",
        "        while self.questions_asked < max_questions:\n",
        "            user_input = input(\"Tu: \")\n",
        "\n",
        "            if self.questions_asked == 0 and not self.greet(user_input):\n",
        "                print(\"Chatbot: Debes saludar antes de empezar.\")\n",
        "                continue\n",
        "\n",
        "            if self.greet(user_input):\n",
        "                print(\"Chatbot:\", self.greeting_responses[0])\n",
        "                print(\"Chatbot:\", self.options[0])\n",
        "                self.questions_asked += 1\n",
        "                continue\n",
        "\n",
        "            if \"clima\" in user_input.lower():\n",
        "                response = self.handle_weather_question()\n",
        "                self.questions_asked += 1\n",
        "            elif \"mercado\" in user_input.lower() or \"valores\" in user_input.lower():\n",
        "                response = self.handle_stock_question()\n",
        "                self.questions_asked += 1\n",
        "            else:\n",
        "                response = \"Lo siento, solo puedo ayudarte con el clima o el mercado de valores.\"\n",
        "\n",
        "            print(\"Chatbot:\", response)\n",
        "            if self.questions_asked < max_questions:\n",
        "                print(\"Chatbot: ¿Tienes otra pregunta?\")\n",
        "            else:\n",
        "                print(\"Chatbot:\", self.farewell_responses[0])"
      ]
    },
    {
      "cell_type": "code",
      "execution_count": null,
      "metadata": {
        "colab": {
          "base_uri": "https://localhost:8080/"
        },
        "id": "hptQAp51UXpa",
        "outputId": "3cdcc680-c855-4120-90f6-a070a23d466b"
      },
      "outputs": [
        {
          "name": "stdout",
          "output_type": "stream",
          "text": [
            "Chatbot: Por favor, inicia la conversación con un saludo.\n",
            "Tu: hola\n",
            "Chatbot: ¡Hola! ¿Cómo puedo ayudarte hoy?\n",
            "Chatbot: Puedes preguntarme sobre el clima o el mercado de valores.\n",
            "Tu: valors\n",
            "Chatbot: Lo siento, solo puedo ayudarte con el clima o el mercado de valores.\n",
            "Chatbot: ¿Tienes otra pregunta?\n",
            "Tu: valores\n",
            "Chatbot: El mercado de valores está en baja hoy.\n",
            "Chatbot: ¿Tienes otra pregunta?\n",
            "Tu: clima\n",
            "Chatbot: El clima de Quito esta raro hoy, no lo puedo comprender\n",
            "Chatbot: ¡Adiós!\n"
          ]
        }
      ],
      "source": [
        "chatbot = RuleBasedChatbot()\n",
        "chatbot.chat()"
      ]
    },
    {
      "cell_type": "markdown",
      "metadata": {
        "id": "Y2f1Yl5Od6gS"
      },
      "source": [
        "### Conclusiones y recomendaciones\n",
        "\n",
        "* Los chatbots basados en reglas, tienen una capacidad limitada para manejar conversaciones que se desvían del flujo predefinido. Solo pueden responder a preguntas específicas que han sido programadas explícitamente. Esto significa que si el usuario plantea una pregunta fuera del alcance de las reglas establecidas, el chatbot no podrá proporcionar una respuesta útil o relevante.\n"
      ]
    }
  ],
  "metadata": {
    "colab": {
      "provenance": []
    },
    "kernelspec": {
      "display_name": "Python 3",
      "name": "python3"
    },
    "language_info": {
      "name": "python"
    }
  },
  "nbformat": 4,
  "nbformat_minor": 0
}
